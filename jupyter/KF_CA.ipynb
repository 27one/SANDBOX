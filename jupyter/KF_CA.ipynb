{
 "cells": [
  {
   "cell_type": "code",
   "execution_count": null,
   "metadata": {},
   "outputs": [],
   "source": [
    "import numpy as np\n",
    "%matplotlib inline\n",
    "import matplotlib.pyplot as plt\n",
    "from scipy.stats import norm"
   ]
  },
  {
   "attachments": {},
   "cell_type": "markdown",
   "metadata": {},
   "source": [
    "## Kalman filter Constant Acceleration Model"
   ]
  },
  {
   "attachments": {},
   "cell_type": "markdown",
   "metadata": {},
   "source": [
    "#### Initial State"
   ]
  },
  {
   "cell_type": "code",
   "execution_count": null,
   "metadata": {},
   "outputs": [],
   "source": [
    "x = np.matrix([[0., 0., 0., 0., 0., 0.]]).T\n",
    "print(x, x.shape)\n",
    "n = x.size\n",
    "plt.scatter(float(x[0]),float(x[1]), s=100)\n",
    "plt.title('Initial Location')"
   ]
  },
  {
   "attachments": {},
   "cell_type": "markdown",
   "metadata": {},
   "source": [
    "#### Initial Uncertainty"
   ]
  },
  {
   "cell_type": "code",
   "execution_count": null,
   "metadata": {},
   "outputs": [],
   "source": [
    "P = np.matrix([[10.0, 0.0, 0.0, 0.0, 0.0, 0.0],\n",
    "              [0.0, 10.0, 0.0, 0.0, 0.0, 0.0],\n",
    "              [0.0, 0.0, 10.0, 0.0, 0.0, 0.0],\n",
    "              [0.0, 0.0, 0.0, 10.0, 0.0, 0.0],\n",
    "              [0.0, 0.0, 0.0, 0.0, 10.0, 0.0],\n",
    "              [0.0, 0.0, 0.0, 0.0, 0.0, 10.0]])\n",
    "print(P, P.shape)\n"
   ]
  },
  {
   "attachments": {},
   "cell_type": "markdown",
   "metadata": {},
   "source": [
    "#### Dynamic Matrix"
   ]
  },
  {
   "cell_type": "code",
   "execution_count": null,
   "metadata": {},
   "outputs": [],
   "source": [
    "dt = 0.5\n",
    "\n",
    "A = np.matrix([[1.0, 0.0, dt, 0.0, 1/2.0*dt**2, 0.0],\n",
    "              [0.0, 1.0, 0.0, dt, 0.0, 1/2.0*dt**2],\n",
    "              [0.0, 0.0, 1.0, 0.0, dt, 0.0],\n",
    "              [0.0, 0.0, 0.0, 1.0, 0.0, dt],\n",
    "              [0.0, 0.0, 0.0, 0.0, 1.0, 0.0],\n",
    "              [0.0, 0.0, 0.0, 0.0, 0.0, 1.0]])\n",
    "print(A, A.shape)"
   ]
  },
  {
   "attachments": {},
   "cell_type": "markdown",
   "metadata": {},
   "source": [
    "#### Measurement Matrix"
   ]
  },
  {
   "cell_type": "code",
   "execution_count": null,
   "metadata": {},
   "outputs": [],
   "source": [
    "H = np.matrix([[0.0, 0.0, 0.0, 0.0, 1.0, 0.0],\n",
    "              [0.0, 0.0, 0.0, 0.0, 0.0, 1.0]])\n",
    "print(H, H.shape)"
   ]
  },
  {
   "attachments": {},
   "cell_type": "markdown",
   "metadata": {},
   "source": [
    "#### Measurement Noise Cov."
   ]
  },
  {
   "cell_type": "code",
   "execution_count": null,
   "metadata": {},
   "outputs": [],
   "source": [
    "ra = 10.0**2\n",
    "R = np.matrix([[ra, 0.0],\n",
    "               [0.0, ra]])\n",
    "print(R, R.shape)"
   ]
  },
  {
   "attachments": {},
   "cell_type": "markdown",
   "metadata": {},
   "source": [
    "#### Process Noise Cov. Matrix Q for Constant Acceleration Model"
   ]
  },
  {
   "cell_type": "code",
   "execution_count": null,
   "metadata": {},
   "outputs": [],
   "source": [
    "sj = 0.1\n",
    "\n",
    "Q = np.matrix([[(dt**6)/36, 0, (dt**5)/12, 0, (dt**4)/6, 0],\n",
    "               [0, (dt**6)/36, 0, (dt**5)/12, 0, (dt**4)/6],\n",
    "               [(dt**5)/12, 0, (dt**4)/4, 0, (dt**3)/2, 0],\n",
    "               [0, (dt**5)/12, 0, (dt**4)/4, 0, (dt**3)/2],\n",
    "               [(dt**4)/6, 0, (dt**3)/2, 0, (dt**2),0],\n",
    "               [0, (dt**4)/6, 0, (dt**3)/2, 0, (dt**2)]]) *sj**2\n",
    "\n",
    "print(Q, Q.shape)"
   ]
  },
  {
   "attachments": {},
   "cell_type": "markdown",
   "metadata": {},
   "source": [
    "#### Identity Matrix"
   ]
  },
  {
   "cell_type": "code",
   "execution_count": null,
   "metadata": {},
   "outputs": [],
   "source": [
    "I = np.eye(n)\n",
    "print(I, I.shape)"
   ]
  },
  {
   "attachments": {},
   "cell_type": "markdown",
   "metadata": {},
   "source": [
    "#### Measurement"
   ]
  },
  {
   "cell_type": "code",
   "execution_count": null,
   "metadata": {},
   "outputs": [],
   "source": [
    "m = 100\n",
    "\n",
    "sa = 0.1\n",
    "ax = 0.0\n",
    "ay = 0.0\n",
    "\n",
    "mx = np.array(ax+sa*np.random.randn(m))\n",
    "my = np.array(ay+sa*np.random.randn(m))\n",
    "\n",
    "measurements = np.vstack((mx,my))"
   ]
  },
  {
   "cell_type": "code",
   "execution_count": null,
   "metadata": {},
   "outputs": [],
   "source": [
    "xt = []\n",
    "yt = []\n",
    "dxt= []\n",
    "dyt= []\n",
    "ddxt=[]\n",
    "ddyt=[]\n",
    "Zx = []\n",
    "Zy = []\n",
    "Px = []\n",
    "Py = []\n",
    "Pdx= []\n",
    "Pdy= []\n",
    "Pddx=[]\n",
    "Pddy=[]\n",
    "Kx = []\n",
    "Ky = []\n",
    "Kdx= []\n",
    "Kdy= []\n",
    "Kddx=[]\n",
    "Kddy=[]"
   ]
  },
  {
   "cell_type": "code",
   "execution_count": null,
   "metadata": {},
   "outputs": [],
   "source": [
    "for n in range(m):\n",
    "    \n",
    "    # Time Update (Prediction)\n",
    "    # ========================\n",
    "    # Project the state ahead\n",
    "    x = A*x\n",
    "    \n",
    "    # Project the error covariance ahead\n",
    "    P = A*P*A.T + Q    \n",
    "    \n",
    "    \n",
    "    # Measurement Update (Correction)\n",
    "    # ===============================\n",
    "    # Compute the Kalman Gain\n",
    "    S = H*P*H.T + R\n",
    "    K = (P*H.T) * np.linalg.pinv(S)\n",
    "\n",
    "    \n",
    "    # Update the estimate via z\n",
    "    Z = measurements[:,n].reshape(H.shape[0],1)\n",
    "    y = Z - (H*x)                            # Innovation or Residual\n",
    "    x = x + (K*y)\n",
    "    \n",
    "    # Update the error covariance\n",
    "    P = (I - (K*H))*P\n",
    "\n",
    "    # Save states for Plotting\n",
    "    xt.append(float(x[0]))\n",
    "    yt.append(float(x[1]))\n",
    "    dxt.append(float(x[2]))\n",
    "    dyt.append(float(x[3]))\n",
    "    ddxt.append(float(x[4]))\n",
    "    ddyt.append(float(x[5]))\n",
    "    Zx.append(float(Z[0]))\n",
    "    Zy.append(float(Z[1]))\n",
    "    Px.append(float(P[0,0]))\n",
    "    Py.append(float(P[1,1]))\n",
    "    Pdx.append(float(P[2,2]))\n",
    "    Pdy.append(float(P[3,3]))\n",
    "    Pddx.append(float(P[4,4]))\n",
    "    Pddy.append(float(P[5,5]))\n",
    "    Kx.append(float(K[0,0]))\n",
    "    Ky.append(float(K[1,0]))\n",
    "    Kdx.append(float(K[2,0]))\n",
    "    Kdy.append(float(K[3,0]))\n",
    "    Kddx.append(float(K[4,0]))\n",
    "    Kddy.append(float(K[5,0]))"
   ]
  },
  {
   "cell_type": "code",
   "execution_count": null,
   "metadata": {},
   "outputs": [],
   "source": [
    "fig = plt.figure(figsize=(16,9))\n",
    "\n",
    "plt.subplot(311)\n",
    "plt.step(range(len(measurements[0])),ddxt, label='$\\ddot x$')\n",
    "plt.step(range(len(measurements[0])),ddyt, label='$\\ddot y$')\n",
    "\n",
    "plt.title('Estimate (Elements from State Vector $x$)')\n",
    "plt.legend(loc='best',prop={'size':22})\n",
    "plt.ylabel('Acceleration')\n",
    "plt.ylim([-1,1])\n",
    "\n",
    "plt.subplot(312)\n",
    "plt.step(range(len(measurements[0])),dxt, label='$\\dot x$')\n",
    "plt.step(range(len(measurements[0])),dyt, label='$\\dot y$')\n",
    "\n",
    "plt.ylabel('')\n",
    "plt.legend(loc='best',prop={'size':22})\n",
    "plt.ylabel('Velocity')\n",
    "           \n",
    "plt.subplot(313)\n",
    "plt.step(range(len(measurements[0])),xt, label='$x$')\n",
    "plt.step(range(len(measurements[0])),yt, label='$y$')\n",
    "\n",
    "plt.xlabel('Filter Step')\n",
    "plt.ylabel('')\n",
    "plt.legend(loc='best',prop={'size':22})\n",
    "plt.ylabel('Position')\n",
    "plt.savefig('Kalman-Filter-CA-StateEstimated.png', dpi=72, transparent=True, bbox_inches='tight')"
   ]
  },
  {
   "cell_type": "code",
   "execution_count": null,
   "metadata": {},
   "outputs": [],
   "source": [
    "fig = plt.figure(figsize=(16,16))\n",
    "plt.scatter(xt[0],yt[0], s=100, label='Start', c='g')\n",
    "plt.scatter(xt[-1],yt[-1], s=100, label='Goal', c='r')\n",
    "plt.plot(xt,yt, label='State',alpha=0.5)\n",
    "\n",
    "plt.xlabel('X')\n",
    "plt.ylabel('Y')\n",
    "plt.title('Position')\n",
    "plt.legend(loc='best')\n",
    "plt.xlim([-20, 20])\n",
    "plt.ylim([-20, 20])\n",
    "plt.savefig('Kalman-Filter-CA-Position.png', dpi=72, transparent=True, bbox_inches='tight')"
   ]
  },
  {
   "cell_type": "code",
   "execution_count": null,
   "metadata": {},
   "outputs": [],
   "source": []
  },
  {
   "cell_type": "code",
   "execution_count": null,
   "metadata": {},
   "outputs": [],
   "source": []
  },
  {
   "cell_type": "code",
   "execution_count": null,
   "metadata": {},
   "outputs": [],
   "source": []
  },
  {
   "cell_type": "code",
   "execution_count": null,
   "metadata": {},
   "outputs": [],
   "source": []
  },
  {
   "cell_type": "code",
   "execution_count": null,
   "metadata": {},
   "outputs": [],
   "source": []
  }
 ],
 "metadata": {
  "kernelspec": {
   "display_name": "sandbox",
   "language": "python",
   "name": "python3"
  },
  "language_info": {
   "codemirror_mode": {
    "name": "ipython",
    "version": 3
   },
   "file_extension": ".py",
   "mimetype": "text/x-python",
   "name": "python",
   "nbconvert_exporter": "python",
   "pygments_lexer": "ipython3",
   "version": "3.8.10"
  },
  "orig_nbformat": 4,
  "vscode": {
   "interpreter": {
    "hash": "e7eff329163b8093a08ebb01baa1e53d0fc012f3fd2614e20b652173bf62b049"
   }
  }
 },
 "nbformat": 4,
 "nbformat_minor": 2
}
