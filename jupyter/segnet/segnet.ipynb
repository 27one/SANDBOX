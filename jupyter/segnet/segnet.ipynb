{
 "cells": [
  {
   "cell_type": "code",
   "execution_count": 3,
   "metadata": {},
   "outputs": [],
   "source": [
    "import torch\n",
    "import torch.nn as nn\n",
    "import torch.functional as F"
   ]
  },
  {
   "cell_type": "code",
   "execution_count": 2,
   "metadata": {},
   "outputs": [],
   "source": [
    "class SegNet(nn.Module):\n",
    "    def __init__(self, params):\n",
    "        super().__init__()\n",
    "        C_in, H_in, W_in = 1, 128, 192\n",
    "        init_f = 16\n",
    "        num_output = 1\n",
    "\n",
    "        # encoder\n",
    "        self.conv1 = nn.Conv2d(C_in, init_f, 3, stride=1, padding=1)\n",
    "        self.conv2 = nn.Conv2d(init_f, 2*init_f, 3, stride=1, padding=1)\n",
    "        self.conv3 = nn.Conv2d(2*init_f, 4*init_f, 3, stride=1, padding=1)\n",
    "        self.conv4 = nn.Conv2d(4*init_f, 8*init_f, 3, stride=1, padding=1)\n",
    "        self.conv5 = nn.Conv2d(8*init_f, 16*init_f, 3, stride=1, padding=1)\n",
    "        \n",
    "        # decoder\n",
    "        self.upsample = nn.Upsample(scale_factor=2, mode='bilinear', align_corners=True)\n",
    "        \n",
    "        self.conv_up1 = nn.Conv2d(16*init_f, 8*init_f, 3, stride=1, padding=1)\n",
    "        self.conv_up2 = nn.Conv2d(8*init_f, 4*init_f, 3, stride=1, padding=1)\n",
    "        self.conv_up3 = nn.Conv2d(4*init_f, 2*init_f, 3, stride=1, padding=1)\n",
    "        self.conv_up4 = nn.Conv2d(2*init_f, 1*init_f, 3, stride=1, padding=1)\n",
    "        self.conv_out = nn.Conv2d(init_f, num_output, 3, stride=1, padding=1)\n",
    "\n",
    "    def forward(self, x):\n",
    "        # encoder\n",
    "        x = F.relu(self.conv1(x))\n",
    "        x = F.max_pool2d(x,2,2)\n",
    "\n",
    "        x = F.relu(self.conv2(x))\n",
    "        x = F.max_pool2d(x,2,2)\n",
    "\n",
    "        x = F.relu(self.conv3(x))\n",
    "        x = F.max_pool2d(x,2,2)\n",
    "\n",
    "        x = F.relu(self.conv4(x))\n",
    "        x = F.max_pool2d(x,2,2) \n",
    "\n",
    "        x = F.relu(self.conv5(x))\n",
    "\n",
    "        # decoder\n",
    "        x = self.upsample(x)\n",
    "        x = F.relu(self.conv_up1(x))\n",
    "\n",
    "        x = self.upsample(x)\n",
    "        x = F.relu(self.conv_up2(x)) \n",
    "\n",
    "        x = self.upsample(x)\n",
    "        x = F.relu(self.conv_up3(x))\n",
    "\n",
    "        x = self.upsample(x)\n",
    "        x = F.relu(self.conv_up4(x))\n",
    "\n",
    "        x = self.conv_out(x)\n",
    "\n",
    "        return x\n",
    "    \n",
    "    def dice_loss(pred, target, smooth = 1e-5):\n",
    "        intersection = (pred * target).sum(dim=(2,3))\n",
    "        union = pred.sum(dim=(2,3)) + target.sum(dim=(2,3))\n",
    "        dice = 2.0 * (intersection + smooth) / (union + smooth)\n",
    "        loss = 1.0 - dice\n",
    "        return loss.sum(), dice.sum()\n",
    "    \n",
    "\n",
    "    def loss_func(pred, target):\n",
    "        bce = F.binary_cross_entropy_with_logits(pred, target, reduction='sum')\n",
    "        div, _ = dice_loss(pred, target)\n",
    "        loss = bce + div\n",
    "        return loss"
   ]
  },
  {
   "cell_type": "code",
   "execution_count": null,
   "metadata": {},
   "outputs": [],
   "source": []
  }
 ],
 "metadata": {
  "kernelspec": {
   "display_name": "sandbox",
   "language": "python",
   "name": "python3"
  },
  "language_info": {
   "codemirror_mode": {
    "name": "ipython",
    "version": 3
   },
   "file_extension": ".py",
   "mimetype": "text/x-python",
   "name": "python",
   "nbconvert_exporter": "python",
   "pygments_lexer": "ipython3",
   "version": "3.8.10"
  },
  "orig_nbformat": 4,
  "vscode": {
   "interpreter": {
    "hash": "e7eff329163b8093a08ebb01baa1e53d0fc012f3fd2614e20b652173bf62b049"
   }
  }
 },
 "nbformat": 4,
 "nbformat_minor": 2
}
